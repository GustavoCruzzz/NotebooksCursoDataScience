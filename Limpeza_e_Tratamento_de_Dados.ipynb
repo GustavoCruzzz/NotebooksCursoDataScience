{
  "nbformat": 4,
  "nbformat_minor": 0,
  "metadata": {
    "colab": {
      "provenance": [],
      "authorship_tag": "ABX9TyOPe3t2RhBWp7u0nkhRWuPw",
      "include_colab_link": true
    },
    "kernelspec": {
      "name": "python3",
      "display_name": "Python 3"
    },
    "language_info": {
      "name": "python"
    }
  },
  "cells": [
    {
      "cell_type": "markdown",
      "metadata": {
        "id": "view-in-github",
        "colab_type": "text"
      },
      "source": [
        "<a href=\"https://colab.research.google.com/github/GustavoCruzzz/NotebooksCursoDataScience/blob/main/Limpeza_e_Tratamento_de_Dados.ipynb\" target=\"_parent\"><img src=\"https://colab.research.google.com/assets/colab-badge.svg\" alt=\"Open In Colab\"/></a>"
      ]
    },
    {
      "cell_type": "markdown",
      "source": [
        "## *PREPARAÇÃO*"
      ],
      "metadata": {
        "id": "W6ftsrxZuJ3L"
      }
    },
    {
      "cell_type": "code",
      "execution_count": null,
      "metadata": {
        "id": "IKE3fAO9gvCl"
      },
      "outputs": [],
      "source": [
        "import pandas as pd\n",
        "import seaborn as srn\n",
        "import statistics as sts"
      ]
    },
    {
      "cell_type": "code",
      "source": [
        "dataset = pd.read_csv(\"Churn.csv\", sep=\";\")\n",
        "dataset.head()"
      ],
      "metadata": {
        "id": "zY7Gp4urinaE"
      },
      "execution_count": null,
      "outputs": []
    },
    {
      "cell_type": "code",
      "source": [
        "dataset.shape"
      ],
      "metadata": {
        "id": "e7kphSxOjGxM"
      },
      "execution_count": null,
      "outputs": []
    },
    {
      "cell_type": "code",
      "source": [
        "dataset.columns = [\"Id\", \"Score\", \"Estado\", \"Genero\", \"Idade\", \"Patrimonio\", \"Saldo\", \"´Produtos\", \"TemCartCredito\", \"Ativo\", \"Salario\", \"Saiu\"]"
      ],
      "metadata": {
        "id": "2NkScA4dj7W9"
      },
      "execution_count": null,
      "outputs": []
    },
    {
      "cell_type": "code",
      "source": [
        "dataset"
      ],
      "metadata": {
        "id": "-QCjaHKekMzU"
      },
      "execution_count": null,
      "outputs": []
    },
    {
      "cell_type": "markdown",
      "source": [
        "# *ANÁLISE EXPLORATÓRIA*"
      ],
      "metadata": {
        "id": "zmzXS5fgt-cd"
      }
    },
    {
      "cell_type": "code",
      "source": [
        "agrupado = dataset.groupby(['Estado']).size()\n",
        "agrupado"
      ],
      "metadata": {
        "id": "q-1d8CzrkN8U"
      },
      "execution_count": null,
      "outputs": []
    },
    {
      "cell_type": "code",
      "source": [
        "agrupado.plot.bar()"
      ],
      "metadata": {
        "id": "Jx4_wEqzluZ3"
      },
      "execution_count": null,
      "outputs": []
    },
    {
      "cell_type": "code",
      "source": [
        "agrupado = dataset.groupby(['Genero']).size()\n",
        "agrupado"
      ],
      "metadata": {
        "id": "ElLEMESfozy2"
      },
      "execution_count": null,
      "outputs": []
    },
    {
      "cell_type": "code",
      "source": [
        "agrupado.plot.bar()"
      ],
      "metadata": {
        "id": "lZx9Y140pBP5"
      },
      "execution_count": null,
      "outputs": []
    },
    {
      "cell_type": "code",
      "source": [
        "dataset['Score'].describe()"
      ],
      "metadata": {
        "id": "cnZPubDFpI5G"
      },
      "execution_count": null,
      "outputs": []
    },
    {
      "cell_type": "code",
      "source": [
        "srn.boxplot(dataset['Score']).set_title('Score')"
      ],
      "metadata": {
        "id": "iE7Youespejy"
      },
      "execution_count": null,
      "outputs": []
    },
    {
      "cell_type": "code",
      "source": [
        "srn.distplot(dataset['Score']).set_title('Score')"
      ],
      "metadata": {
        "id": "xj6AzANnqGWJ"
      },
      "execution_count": null,
      "outputs": []
    },
    {
      "cell_type": "code",
      "source": [
        "dataset['Idade'].describe()"
      ],
      "metadata": {
        "id": "zZ2pGXyEqhPD"
      },
      "execution_count": null,
      "outputs": []
    },
    {
      "cell_type": "code",
      "source": [
        "srn.boxplot(dataset['Idade']).set_title('Idade')"
      ],
      "metadata": {
        "id": "-N5GpEpIquqQ"
      },
      "execution_count": null,
      "outputs": []
    },
    {
      "cell_type": "code",
      "source": [
        "srn.histplot(dataset['Idade']).set_title('Idade')"
      ],
      "metadata": {
        "id": "mqM5QHArrHBC"
      },
      "execution_count": null,
      "outputs": []
    },
    {
      "cell_type": "code",
      "source": [
        "dataset['Saldo'].describe()"
      ],
      "metadata": {
        "id": "XnSsSI61rkkk"
      },
      "execution_count": null,
      "outputs": []
    },
    {
      "cell_type": "code",
      "source": [
        "srn.boxplot(dataset['Saldo']).set_title('Saldo')"
      ],
      "metadata": {
        "id": "-1VVy4UWr3Uo"
      },
      "execution_count": null,
      "outputs": []
    },
    {
      "cell_type": "code",
      "source": [
        "srn.histplot(dataset['Saldo']).set_title('Saldo')"
      ],
      "metadata": {
        "id": "ASlwswoPsD-9"
      },
      "execution_count": null,
      "outputs": []
    },
    {
      "cell_type": "code",
      "source": [
        "dataset['Salario'].describe()"
      ],
      "metadata": {
        "id": "dBSoS1lJsU1Z"
      },
      "execution_count": null,
      "outputs": []
    },
    {
      "cell_type": "code",
      "source": [
        "srn.boxplot(dataset['Salario']).set_title('Salario')"
      ],
      "metadata": {
        "id": "NadGlE1RsmT9"
      },
      "execution_count": null,
      "outputs": []
    },
    {
      "cell_type": "code",
      "source": [
        "srn.histplot(dataset['Salario']).set_title('Salario')"
      ],
      "metadata": {
        "id": "k9ihgV9IspjE"
      },
      "execution_count": null,
      "outputs": []
    },
    {
      "cell_type": "code",
      "source": [
        "dataset.isnull().sum()"
      ],
      "metadata": {
        "id": "usF1fyQMs7bZ"
      },
      "execution_count": null,
      "outputs": []
    },
    {
      "cell_type": "markdown",
      "source": [
        "# *TRATAMENTO DOS DADOS*"
      ],
      "metadata": {
        "id": "y7RohLoCvS4-"
      }
    },
    {
      "cell_type": "code",
      "source": [
        "dataset['Salario'].describe()"
      ],
      "metadata": {
        "id": "Z60rk2AbvWAl"
      },
      "execution_count": null,
      "outputs": []
    },
    {
      "cell_type": "code",
      "source": [
        "mediana = sts.median(dataset['Salario'])\n",
        "mediana"
      ],
      "metadata": {
        "id": "7A17UQVuwCpt"
      },
      "execution_count": null,
      "outputs": []
    },
    {
      "cell_type": "code",
      "source": [
        "dataset['Salario'].fillna(mediana, inplace=True)"
      ],
      "metadata": {
        "id": "6gh7J16lwKFe"
      },
      "execution_count": null,
      "outputs": []
    },
    {
      "cell_type": "code",
      "source": [
        "dataset['Salario'].isnull().sum()"
      ],
      "metadata": {
        "id": "LAJTAtwRwTfB"
      },
      "execution_count": null,
      "outputs": []
    },
    {
      "cell_type": "code",
      "source": [
        "agrupado = dataset.groupby(['Genero']).size()\n",
        "agrupado"
      ],
      "metadata": {
        "id": "h7NSjps9wZ6P"
      },
      "execution_count": null,
      "outputs": []
    },
    {
      "cell_type": "code",
      "source": [
        "dataset['Genero'].isnull().sum()"
      ],
      "metadata": {
        "id": "s0EUrCIUw2Ca"
      },
      "execution_count": null,
      "outputs": []
    },
    {
      "cell_type": "code",
      "source": [
        "dataset['Genero'].fillna('Masculino', inplace=True)"
      ],
      "metadata": {
        "id": "URaTrgnfxBTn"
      },
      "execution_count": null,
      "outputs": []
    },
    {
      "cell_type": "code",
      "source": [
        "dataset['Genero'].isnull().sum()"
      ],
      "metadata": {
        "id": "WC1ZNi3dw-ao"
      },
      "execution_count": null,
      "outputs": []
    },
    {
      "cell_type": "code",
      "source": [
        "dataset.loc[dataset['Genero'] == 'M', 'Genero'] = \"Masculino\"\n",
        "dataset.loc[dataset['Genero'].isin(['Fem', 'F']), 'Genero'] = \"Feminino\"\n",
        "agrupado = dataset.groupby(['Genero']).size()\n",
        "agrupado"
      ],
      "metadata": {
        "id": "QU8bSn2uxj9b"
      },
      "execution_count": null,
      "outputs": []
    },
    {
      "cell_type": "code",
      "source": [
        "dataset['Idade'].describe()"
      ],
      "metadata": {
        "id": "UcvKCXcAycDD"
      },
      "execution_count": null,
      "outputs": []
    },
    {
      "cell_type": "code",
      "source": [
        "dataset.loc[(dataset['Idade'] < 0 ) | (dataset['Idade'] > 120 )]"
      ],
      "metadata": {
        "id": "_h_ixrAZzyjI"
      },
      "execution_count": null,
      "outputs": []
    },
    {
      "cell_type": "code",
      "source": [
        "mediana = sts.median(dataset['Idade'])\n",
        "mediana"
      ],
      "metadata": {
        "id": "tLVxY6LL0H3T"
      },
      "execution_count": null,
      "outputs": []
    },
    {
      "cell_type": "code",
      "source": [
        "dataset.loc[(dataset['Idade'] < 0 ) | (dataset['Idade'] > 120 ), 'Idade'] = mediana"
      ],
      "metadata": {
        "id": "XIxpIEhl0ZaX"
      },
      "execution_count": null,
      "outputs": []
    },
    {
      "cell_type": "code",
      "source": [
        "dataset.loc[(dataset['Idade'] < 0 ) | (dataset['Idade'] > 120 ), 'Idade']"
      ],
      "metadata": {
        "id": "4AjSCg7V00qK"
      },
      "execution_count": null,
      "outputs": []
    },
    {
      "cell_type": "code",
      "source": [
        "dataset[dataset.duplicated(['Id'], keep=False)]"
      ],
      "metadata": {
        "id": "7MIYEGie03GQ"
      },
      "execution_count": null,
      "outputs": []
    },
    {
      "cell_type": "code",
      "source": [
        "dataset.drop_duplicates(subset=\"Id\", keep = 'first', inplace=True)\n",
        "dataset[dataset.duplicated(['Id'], keep=False)]"
      ],
      "metadata": {
        "id": "HjudRC2g7Mke"
      },
      "execution_count": null,
      "outputs": []
    },
    {
      "cell_type": "code",
      "source": [
        "agrupado = dataset.groupby(['Estado']).size()\n",
        "agrupado"
      ],
      "metadata": {
        "id": "s8HiXNq-8FBy"
      },
      "execution_count": null,
      "outputs": []
    },
    {
      "cell_type": "code",
      "source": [
        "dataset.loc[dataset['Estado'].isin(['TD', 'RP', 'SP']), 'Estado'] = \"RS\"\n",
        "agrupado = dataset.groupby(['Estado']).size()"
      ],
      "metadata": {
        "id": "9cNC0pTZ8U3X"
      },
      "execution_count": null,
      "outputs": []
    },
    {
      "cell_type": "code",
      "source": [
        "agrupado"
      ],
      "metadata": {
        "id": "OMmP0lBM8yMA"
      },
      "execution_count": null,
      "outputs": []
    },
    {
      "cell_type": "code",
      "source": [
        "desv = sts.stdev(dataset['Salario'])\n",
        "desv"
      ],
      "metadata": {
        "id": "OfX4nWa-8zTw"
      },
      "execution_count": null,
      "outputs": []
    },
    {
      "cell_type": "code",
      "source": [
        "dataset.loc[dataset['Salario'] >= 2*desv]"
      ],
      "metadata": {
        "id": "oD2UGe869Sa5"
      },
      "execution_count": null,
      "outputs": []
    },
    {
      "cell_type": "code",
      "source": [
        "mediana = sts.median(dataset['Salario'])\n",
        "mediana"
      ],
      "metadata": {
        "id": "pDZU1Nf59bHv"
      },
      "execution_count": null,
      "outputs": []
    },
    {
      "cell_type": "code",
      "source": [
        "dataset.loc[dataset['Salario'] >= 2*desv, 'Salario'] = mediana\n",
        "dataset.loc[dataset['Salario'] >= 2*desv]"
      ],
      "metadata": {
        "id": "MSiJYhiR9pcU"
      },
      "execution_count": null,
      "outputs": []
    },
    {
      "cell_type": "code",
      "source": [
        "dataset.head()"
      ],
      "metadata": {
        "id": "i0oQaIKr93Vx"
      },
      "execution_count": null,
      "outputs": []
    },
    {
      "cell_type": "code",
      "source": [
        "dataset.shape"
      ],
      "metadata": {
        "id": "Spo7v07p94wp"
      },
      "execution_count": null,
      "outputs": []
    }
  ]
}